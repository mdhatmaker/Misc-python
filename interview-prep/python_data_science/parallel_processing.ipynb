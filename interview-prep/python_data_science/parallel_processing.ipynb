{
 "cells": [
  {
   "cell_type": "markdown",
   "metadata": {},
   "source": [
    "## THREADING"
   ]
  },
  {
   "cell_type": "code",
   "execution_count": 2,
   "metadata": {},
   "outputs": [],
   "source": [
    "import threading\n",
    "import time"
   ]
  },
  {
   "cell_type": "code",
   "execution_count": 3,
   "metadata": {},
   "outputs": [
    {
     "name": "stdout",
     "output_type": "stream",
     "text": [
      "Sleeping 1 second...\n",
      "Done sleeping...\n",
      "Finished in 1.0 second(s)\n"
     ]
    }
   ],
   "source": [
    "start = time.perf_counter()\n",
    "\n",
    "def do_something():\n",
    "    print('Sleeping 1 second...')\n",
    "    time.sleep(1)\n",
    "    print('Done sleeping...')\n",
    "    \n",
    "do_something()\n",
    "\n",
    "finish = time.perf_counter()\n",
    "\n",
    "print(f'Finished in {round(finish-start, 2)} second(s)')"
   ]
  },
  {
   "cell_type": "code",
   "execution_count": 4,
   "metadata": {},
   "outputs": [
    {
     "name": "stdout",
     "output_type": "stream",
     "text": [
      "Sleeping 1 second...\n",
      "Done sleeping...\n",
      "Sleeping 1 second...\n",
      "Done sleeping...\n",
      "Finished in 2.0 second(s)\n"
     ]
    }
   ],
   "source": [
    "start = time.perf_counter()\n",
    "\n",
    "do_something()\n",
    "do_something()\n",
    "\n",
    "finish = time.perf_counter()\n",
    "\n",
    "print(f'Finished in {round(finish-start, 2)} second(s)')"
   ]
  },
  {
   "cell_type": "code",
   "execution_count": 6,
   "metadata": {},
   "outputs": [
    {
     "name": "stdout",
     "output_type": "stream",
     "text": [
      "Sleeping 1 second...\n",
      "Sleeping 1 second...\n",
      "Done sleeping...\n",
      "Done sleeping...\n",
      "Finished in 1.0 second(s)\n"
     ]
    }
   ],
   "source": [
    "start = time.perf_counter()\n",
    "\n",
    "t1 = threading.Thread(target=do_something)\n",
    "t2 = threading.Thread(target=do_something)\n",
    "\n",
    "t1.start()\n",
    "t2.start()\n",
    "\n",
    "t1.join()\n",
    "t2.join()\n",
    "\n",
    "finish = time.perf_counter()\n",
    "\n",
    "print(f'Finished in {round(finish-start, 2)} second(s)')"
   ]
  },
  {
   "cell_type": "code",
   "execution_count": 7,
   "metadata": {},
   "outputs": [
    {
     "name": "stdout",
     "output_type": "stream",
     "text": [
      "Sleeping 1 second...\n",
      "Sleeping 1 second...\n",
      "Sleeping 1 second...\n",
      "Sleeping 1 second...\n",
      "Sleeping 1 second...\n",
      "Sleeping 1 second...Sleeping 1 second...\n",
      "\n",
      "Sleeping 1 second...\n",
      "Sleeping 1 second...\n",
      "Sleeping 1 second...\n",
      "Done sleeping...\n",
      "Done sleeping...\n",
      "Done sleeping...\n",
      "Done sleeping...\n",
      "Done sleeping...\n",
      "Done sleeping...\n",
      "Done sleeping...\n",
      "Done sleeping...\n",
      "Done sleeping...\n",
      "Done sleeping...\n",
      "Finished in 1.02 second(s)\n"
     ]
    }
   ],
   "source": [
    "start = time.perf_counter()\n",
    "\n",
    "threads = []\n",
    "for _ in range(10):\n",
    "    t = threading.Thread(target=do_something)\n",
    "    t.start()\n",
    "    threads.append(t)\n",
    "    # can't join here -- it would cause the loop to pause\n",
    "    \n",
    "for t in threads:\n",
    "    t.join()\n",
    "\n",
    "finish = time.perf_counter()\n",
    "\n",
    "print(f'Finished in {round(finish-start, 2)} second(s)')"
   ]
  },
  {
   "cell_type": "code",
   "execution_count": 8,
   "metadata": {},
   "outputs": [
    {
     "name": "stdout",
     "output_type": "stream",
     "text": [
      "Sleeping 1.5 second(s)...\n",
      "Sleeping 1.5 second(s)...\n",
      "Sleeping 1.5 second(s)...\n",
      "Sleeping 1.5 second(s)...\n",
      "Sleeping 1.5 second(s)...\n",
      "Sleeping 1.5 second(s)...\n",
      "Sleeping 1.5 second(s)...\n",
      "Sleeping 1.5 second(s)...\n",
      "Sleeping 1.5 second(s)...\n",
      "Sleeping 1.5 second(s)...\n",
      "Done sleeping...\n",
      "Done sleeping...\n",
      "Done sleeping...\n",
      "Done sleeping...\n",
      "Done sleeping...\n",
      "Done sleeping...\n",
      "Done sleeping...\n",
      "Done sleeping...\n",
      "Done sleeping...\n",
      "Done sleeping...\n",
      "Finished in 1.52 second(s)\n"
     ]
    }
   ],
   "source": [
    "def do_something(seconds):\n",
    "    print(f'Sleeping {seconds} second(s)...')\n",
    "    time.sleep(seconds)\n",
    "    print('Done sleeping...')\n",
    "    \n",
    "start = time.perf_counter()\n",
    "\n",
    "threads = []\n",
    "for _ in range(10):\n",
    "    t = threading.Thread(target=do_something, args=[1.5])\n",
    "    t.start()\n",
    "    threads.append(t)\n",
    "    # can't join here -- it would cause the loop to pause\n",
    "    \n",
    "for t in threads:\n",
    "    t.join()\n",
    "\n",
    "finish = time.perf_counter()\n",
    "\n",
    "print(f'Finished in {round(finish-start, 2)} second(s)')"
   ]
  },
  {
   "cell_type": "markdown",
   "metadata": {},
   "source": [
    "The above is the older (manual) way to do python threads.\n",
    "\n",
    "In python 3.2, they added a ThreadPool Executor. Let's try using that:"
   ]
  },
  {
   "cell_type": "code",
   "execution_count": 9,
   "metadata": {},
   "outputs": [
    {
     "name": "stdout",
     "output_type": "stream",
     "text": [
      "Sleeping 1 second(s)...\n",
      "Done sleeping...\n",
      "Finished in 1.0 second(s)\n"
     ]
    }
   ],
   "source": [
    "import concurrent.futures\n",
    "\n",
    "def do_something(seconds):\n",
    "    print(f'Sleeping {seconds} second(s)...')\n",
    "    time.sleep(seconds)\n",
    "    return 'Done sleeping...'   # changed this to return a value\n",
    "    \n",
    "start = time.perf_counter()\n",
    "\n",
    "with concurrent.futures.ThreadPoolExecutor() as executor:\n",
    "    f1 = executor.submit(do_something, 1)  # returns a future object\n",
    "    print(f1.result())\n",
    "\n",
    "finish = time.perf_counter()\n",
    "\n",
    "print(f'Finished in {round(finish-start, 2)} second(s)')"
   ]
  },
  {
   "cell_type": "code",
   "execution_count": 10,
   "metadata": {},
   "outputs": [
    {
     "name": "stdout",
     "output_type": "stream",
     "text": [
      "Sleeping 1 second(s)...\n",
      "Sleeping 1 second(s)...\n",
      "Done sleeping...\n",
      "Done sleeping...\n",
      "Finished in 1.0 second(s)\n"
     ]
    }
   ],
   "source": [
    "start = time.perf_counter()\n",
    "\n",
    "with concurrent.futures.ThreadPoolExecutor() as executor:\n",
    "    f1 = executor.submit(do_something, 1)  # returns a future object\n",
    "    f2 = executor.submit(do_something, 1)  # returns a future object\n",
    "    print(f1.result())\n",
    "    print(f2.result())\n",
    "\n",
    "finish = time.perf_counter()\n",
    "\n",
    "print(f'Finished in {round(finish-start, 2)} second(s)')"
   ]
  },
  {
   "cell_type": "code",
   "execution_count": 11,
   "metadata": {},
   "outputs": [
    {
     "name": "stdout",
     "output_type": "stream",
     "text": [
      "Sleeping 1 second(s)...\n",
      "Sleeping 1 second(s)...\n",
      "Sleeping 1 second(s)...\n",
      "Sleeping 1 second(s)...Sleeping 1 second(s)...\n",
      "\n",
      "Sleeping 1 second(s)...\n",
      "Sleeping 1 second(s)...\n",
      "Sleeping 1 second(s)...\n",
      "Sleeping 1 second(s)...\n",
      "Sleeping 1 second(s)...\n",
      "Done sleeping...\n",
      "Done sleeping...\n",
      "Done sleeping...\n",
      "Done sleeping...\n",
      "Done sleeping...\n",
      "Done sleeping...\n",
      "Done sleeping...\n",
      "Done sleeping...\n",
      "Done sleeping...\n",
      "Done sleeping...\n",
      "Finished in 1.01 second(s)\n"
     ]
    }
   ],
   "source": [
    "start = time.perf_counter()\n",
    "\n",
    "with concurrent.futures.ThreadPoolExecutor() as executor:\n",
    "    results = [executor.submit(do_something, 1) for _ in range(10)]\n",
    "    # get results as the threads are completed\n",
    "    for f in concurrent.futures.as_completed(results):\n",
    "        print(f.result())\n",
    "\n",
    "finish = time.perf_counter()\n",
    "\n",
    "print(f'Finished in {round(finish-start, 2)} second(s)')"
   ]
  },
  {
   "cell_type": "code",
   "execution_count": 14,
   "metadata": {},
   "outputs": [
    {
     "name": "stdout",
     "output_type": "stream",
     "text": [
      "Sleeping 5 second(s)...\n",
      "Sleeping 4 second(s)...\n",
      "Sleeping 3 second(s)...Sleeping 2 second(s)...\n",
      "\n",
      "Sleeping 1 second(s)...\n",
      "Done sleeping...1\n",
      "Done sleeping...2\n",
      "Done sleeping...3\n",
      "Done sleeping...4\n",
      "Done sleeping...5\n",
      "Finished in 5.0 second(s)\n"
     ]
    }
   ],
   "source": [
    "def do_something(seconds):\n",
    "    print(f'Sleeping {seconds} second(s)...')\n",
    "    time.sleep(seconds)\n",
    "    return f'Done sleeping...{seconds}'\n",
    "    \n",
    "start = time.perf_counter()\n",
    "\n",
    "with concurrent.futures.ThreadPoolExecutor() as executor:\n",
    "    secs = [5,4,3,2,1]\n",
    "    results = [executor.submit(do_something, sec) for sec in secs]\n",
    "    # get results as the threads are completed\n",
    "    for f in concurrent.futures.as_completed(results):\n",
    "        print(f.result())\n",
    "\n",
    "finish = time.perf_counter()\n",
    "\n",
    "print(f'Finished in {round(finish-start, 2)} second(s)')"
   ]
  },
  {
   "cell_type": "code",
   "execution_count": 15,
   "metadata": {},
   "outputs": [
    {
     "name": "stdout",
     "output_type": "stream",
     "text": [
      "Sleeping 5 second(s)...\n",
      "Sleeping 4 second(s)...\n",
      "Sleeping 3 second(s)...\n",
      "Sleeping 2 second(s)...\n",
      "Sleeping 1 second(s)...\n",
      "Done sleeping...5\n",
      "Done sleeping...4\n",
      "Done sleeping...3\n",
      "Done sleeping...2\n",
      "Done sleeping...1\n",
      "Finished in 5.01 second(s)\n"
     ]
    }
   ],
   "source": [
    "start = time.perf_counter()\n",
    "\n",
    "with concurrent.futures.ThreadPoolExecutor() as executor:\n",
    "    secs = [5,4,3,2,1]\n",
    "    results = executor.map(do_something, secs)\n",
    "    \n",
    "    # map will return results in the order the results were STARTED\n",
    "    for result in results:\n",
    "        print(result)\n",
    "\n",
    "finish = time.perf_counter()\n",
    "\n",
    "print(f'Finished in {round(finish-start, 2)} second(s)')"
   ]
  },
  {
   "cell_type": "markdown",
   "metadata": {},
   "source": [
    "NOTE: If our function raises an exception, it will not raise the exception while running the thread. The exception is raised when its value is retrieved from the results iterator. If you need to handle exceptions, handle them within the iterator.\n",
    "\n",
    "Also, this form does not require 'join' to wait for threads to execute."
   ]
  },
  {
   "cell_type": "markdown",
   "metadata": {},
   "source": [
    "## Real World Example - Downloading Images"
   ]
  },
  {
   "cell_type": "code",
   "execution_count": 44,
   "metadata": {},
   "outputs": [
    {
     "name": "stdout",
     "output_type": "stream",
     "text": [
      "photo-1516117172878-fd2c41f4a759.jpg was downloaded...\n",
      "photo-1532009324734-20a7a5813719.jpg was downloaded...\n",
      "photo-1524429656589-6633a470097c.jpg was downloaded...\n",
      "photo-1530224264768-7ff8c1789d79.jpg was downloaded...\n",
      "photo-1564135624576-c5c88640f235.jpg was downloaded...\n",
      "photo-1541698444083-023c97d3f4b6.jpg was downloaded...\n",
      "photo-1522364723953-452d3431c267.jpg was downloaded...\n",
      "photo-1513938709626-033611b8cc03.jpg was downloaded...\n",
      "photo-1507143550189-fed454f93097.jpg was downloaded...\n",
      "photo-1493976040374-85c8e12f0c0e.jpg was downloaded...\n",
      "photo-1504198453319-5ce911bafcde.jpg was downloaded...\n",
      "photo-1530122037265-a5f1f91d3b99.jpg was downloaded...\n",
      "photo-1516972810927-80185027ca84.jpg was downloaded...\n",
      "photo-1550439062-609e1531270e.jpg was downloaded...\n",
      "photo-1549692520-acc6669e2f0c.jpg was downloaded...\n",
      "Finished in 15.792922200002067 seconds\n"
     ]
    }
   ],
   "source": [
    "import requests\n",
    "\n",
    "# Now try downloading images with threading\n",
    "\n",
    "img_urls = [\n",
    "    'https://images.unsplash.com/photo-1516117172878-fd2c41f4a759',\n",
    "    'https://images.unsplash.com/photo-1532009324734-20a7a5813719',\n",
    "    'https://images.unsplash.com/photo-1524429656589-6633a470097c',\n",
    "    'https://images.unsplash.com/photo-1530224264768-7ff8c1789d79',\n",
    "    'https://images.unsplash.com/photo-1564135624576-c5c88640f235',\n",
    "    'https://images.unsplash.com/photo-1541698444083-023c97d3f4b6',\n",
    "    'https://images.unsplash.com/photo-1522364723953-452d3431c267',\n",
    "    'https://images.unsplash.com/photo-1513938709626-033611b8cc03',\n",
    "    'https://images.unsplash.com/photo-1507143550189-fed454f93097',\n",
    "    'https://images.unsplash.com/photo-1493976040374-85c8e12f0c0e',\n",
    "    'https://images.unsplash.com/photo-1504198453319-5ce911bafcde',\n",
    "    'https://images.unsplash.com/photo-1530122037265-a5f1f91d3b99',\n",
    "    'https://images.unsplash.com/photo-1516972810927-80185027ca84',\n",
    "    'https://images.unsplash.com/photo-1550439062-609e1531270e',\n",
    "    'https://images.unsplash.com/photo-1549692520-acc6669e2f0c'\n",
    "]\n",
    "\n",
    "t1 = time.perf_counter()\n",
    "\n",
    "# synchronous downloads\n",
    "for img_url in img_urls:\n",
    "    img_bytes = requests.get(img_url).content\n",
    "    img_name = img_url.split('/')[3]\n",
    "    img_name = f'images/{img_name}.jpg'\n",
    "    with open(img_name, 'wb') as img_file:\n",
    "        img_file.write(img_bytes)\n",
    "        print(f'{img_name} was downloaded...')\n",
    "        \n",
    "t2 = time.perf_counter()\n",
    "\n",
    "print(f'Finished in {t2-t1} seconds')"
   ]
  },
  {
   "cell_type": "code",
   "execution_count": 47,
   "metadata": {},
   "outputs": [
    {
     "name": "stdout",
     "output_type": "stream",
     "text": [
      "images/photo-1516117172878-fd2c41f4a759.jpg was downloaded...\n",
      "images/photo-1530224264768-7ff8c1789d79.jpg was downloaded...\n",
      "images/photo-1507143550189-fed454f93097.jpg was downloaded...\n",
      "images/photo-1524429656589-6633a470097c.jpg was downloaded...\n",
      "images/photo-1549692520-acc6669e2f0c.jpg was downloaded...\n",
      "images/photo-1522364723953-452d3431c267.jpg was downloaded...\n",
      "images/photo-1504198453319-5ce911bafcde.jpg was downloaded...\n",
      "images/photo-1541698444083-023c97d3f4b6.jpg was downloaded...\n",
      "images/photo-1532009324734-20a7a5813719.jpg was downloaded...\n",
      "images/photo-1516972810927-80185027ca84.jpg was downloaded...\n",
      "images/photo-1564135624576-c5c88640f235.jpg was downloaded...\n",
      "images/photo-1493976040374-85c8e12f0c0e.jpg was downloaded...\n",
      "images/photo-1530122037265-a5f1f91d3b99.jpg was downloaded...\n",
      "images/photo-1513938709626-033611b8cc03.jpg was downloaded...\n",
      "images/photo-1550439062-609e1531270e.jpg was downloaded...\n",
      "Finished in 5.453322400004254 seconds\n"
     ]
    }
   ],
   "source": [
    "t1 = time.perf_counter()\n",
    "\n",
    "def download_image(img_url):\n",
    "    img_bytes = requests.get(img_url).content\n",
    "    img_name = img_url.split('/')[3]\n",
    "    img_name = f'images/{img_name}.jpg'\n",
    "    with open(img_name, 'wb') as img_file:\n",
    "        img_file.write(img_bytes)\n",
    "        print(f'{img_name} was downloaded...')\n",
    "     \n",
    "# asynchronous downloads\n",
    "with concurrent.futures.ThreadPoolExecutor() as executor:\n",
    "    executor.map(download_image, img_urls)\n",
    "    \n",
    "t2 = time.perf_counter()\n",
    "\n",
    "print(f'Finished in {t2-t1} seconds')"
   ]
  },
  {
   "cell_type": "markdown",
   "metadata": {},
   "source": [
    "NOTE: Threading works well for this example of downloading images because it is \"IO-bound\". If your code is \"CPU-bound\", then threading could actually make performance worse because there is some overhead to using threads."
   ]
  },
  {
   "cell_type": "markdown",
   "metadata": {},
   "source": [
    "## MULTIPROCESSING"
   ]
  },
  {
   "cell_type": "code",
   "execution_count": 21,
   "metadata": {},
   "outputs": [
    {
     "name": "stdout",
     "output_type": "stream",
     "text": [
      "Sleeping 1 second...\n",
      "Done sleeping...\n",
      "Sleeping 1 second...\n",
      "Done sleeping...\n",
      "Finished in 2.0 second(s)\n"
     ]
    }
   ],
   "source": [
    "start = time.perf_counter()\n",
    "\n",
    "def do_something():\n",
    "    print('Sleeping 1 second...')\n",
    "    time.sleep(1)\n",
    "    print('Done sleeping...')\n",
    "    \n",
    "do_something()\n",
    "do_something()\n",
    "\n",
    "finish = time.perf_counter()\n",
    "\n",
    "print(f'Finished in {round(finish-start, 2)} second(s)')"
   ]
  },
  {
   "cell_type": "code",
   "execution_count": 22,
   "metadata": {},
   "outputs": [
    {
     "name": "stdout",
     "output_type": "stream",
     "text": [
      "Sleeping 1 second...\n",
      "Finished in 1.23 second(s)\n",
      "Sleeping 1 second...\n",
      "Done sleeping...\n",
      "Done sleeping...\n"
     ]
    }
   ],
   "source": [
    "import multiprocessing\n",
    "\n",
    "start = time.perf_counter()\n",
    "\n",
    "p1 = multiprocessing.Process(target=do_something)\n",
    "p2 = multiprocessing.Process(target=do_something)\n",
    "\n",
    "p1.start()\n",
    "p2.start()\n",
    "\n",
    "finish = time.perf_counter()\n",
    "\n",
    "print(f'Finished in {round(finish-start, 2)} second(s)')"
   ]
  },
  {
   "cell_type": "code",
   "execution_count": 24,
   "metadata": {},
   "outputs": [
    {
     "name": "stdout",
     "output_type": "stream",
     "text": [
      "Sleeping 1 second...\n",
      "Sleeping 1 second...\n",
      "Done sleeping...\n",
      "Done sleeping...\n",
      "Finished in 2.37 second(s)\n"
     ]
    }
   ],
   "source": [
    "start = time.perf_counter()\n",
    "\n",
    "p1 = multiprocessing.Process(target=do_something)\n",
    "p2 = multiprocessing.Process(target=do_something)\n",
    "\n",
    "p1.start()\n",
    "p2.start()\n",
    "\n",
    "p1.join()\n",
    "p2.join()\n",
    "\n",
    "finish = time.perf_counter()\n",
    "\n",
    "print(f'Finished in {round(finish-start, 2)} second(s)')"
   ]
  },
  {
   "cell_type": "code",
   "execution_count": 25,
   "metadata": {},
   "outputs": [
    {
     "name": "stdout",
     "output_type": "stream",
     "text": [
      "Sleeping 1 second...\n",
      "Sleeping 1 second...\n",
      "Sleeping 1 second...\n",
      "Done sleeping...\n",
      "Sleeping 1 second...\n",
      "Done sleeping...\n",
      "Sleeping 1 second...\n",
      "Done sleeping...\n",
      "Sleeping 1 second...\n",
      "Done sleeping...\n",
      "Sleeping 1 second...\n",
      "Done sleeping...\n",
      "Sleeping 1 second...\n",
      "Done sleeping...\n",
      "Sleeping 1 second...\n",
      "Done sleeping...\n",
      "Sleeping 1 second...\n",
      "Done sleeping...\n",
      "Done sleeping...\n",
      "Done sleeping...\n",
      "Finished in 7.76 second(s)\n"
     ]
    }
   ],
   "source": [
    "start = time.perf_counter()\n",
    "\n",
    "processes = []\n",
    "for _ in range(10):\n",
    "    p = multiprocessing.Process(target=do_something)\n",
    "    p.start()\n",
    "    processes.append(p)\n",
    "\n",
    "for p in processes:\n",
    "    p.join()\n",
    "    \n",
    "finish = time.perf_counter()\n",
    "\n",
    "print(f'Finished in {round(finish-start, 2)} second(s)')"
   ]
  },
  {
   "cell_type": "code",
   "execution_count": 27,
   "metadata": {},
   "outputs": [
    {
     "name": "stdout",
     "output_type": "stream",
     "text": [
      "Sleeping 1.5 second(s)...\n",
      "Sleeping 1.5 second(s)...\n",
      "Sleeping 1.5 second(s)...\n",
      "Sleeping 1.5 second(s)...\n",
      "Done sleeping...\n",
      "Done sleeping...\n",
      "Sleeping 1.5 second(s)...\n",
      "Done sleeping...\n",
      "Done sleeping...\n",
      "Sleeping 1.5 second(s)...\n",
      "Sleeping 1.5 second(s)...\n",
      "Done sleeping...\n",
      "Sleeping 1.5 second(s)...\n",
      "Done sleeping...\n",
      "Sleeping 1.5 second(s)...\n",
      "Done sleeping...\n",
      "Sleeping 1.5 second(s)...\n",
      "Done sleeping...\n",
      "Done sleeping...\n",
      "Done sleeping...\n",
      "Finished in 9.32 second(s)\n"
     ]
    }
   ],
   "source": [
    "start = time.perf_counter()\n",
    "\n",
    "def do_something(seconds):\n",
    "    print(f'Sleeping {seconds} second(s)...')\n",
    "    time.sleep(seconds)\n",
    "    print('Done sleeping...')\n",
    "\n",
    "processes = []\n",
    "for _ in range(10):\n",
    "    # NOTE: unlike with threads, arguments to process must be\n",
    "    # serializable with pickle\n",
    "    p = multiprocessing.Process(target=do_something, args=[1.5])\n",
    "    p.start()\n",
    "    processes.append(p)\n",
    "    \n",
    "for p in processes:\n",
    "    p.join()\n",
    "\n",
    "finish = time.perf_counter()\n",
    "\n",
    "print(f'Finished in {round(finish-start, 2)} second(s)')"
   ]
  },
  {
   "cell_type": "markdown",
   "metadata": {},
   "source": [
    "In python 3.2, they added a ProcessPool Executor. The following code will use this \"newer\" method of multiprocessing."
   ]
  },
  {
   "cell_type": "code",
   "execution_count": 30,
   "metadata": {},
   "outputs": [
    {
     "name": "stdout",
     "output_type": "stream",
     "text": [
      "Sleeping 1 second(s)...\n",
      "Done sleeping...1\n",
      "Finished in 9.82 second(s)\n"
     ]
    }
   ],
   "source": [
    "import concurrent.futures\n",
    "\n",
    "start = time.perf_counter()\n",
    "\n",
    "def do_something(seconds):\n",
    "    print(f'Sleeping {seconds} second(s)...')\n",
    "    time.sleep(seconds)\n",
    "    return f'Done sleeping...{seconds}'\n",
    "\n",
    "# best to use process pool with a context manager\n",
    "with concurrent.futures.ProcessPoolExecutor() as executor:\n",
    "    # submit method returns a future object\n",
    "    f1 = executor.submit(do_something, 1)\n",
    "    print(f1.result())\n",
    "\n",
    "finish = time.perf_counter()\n",
    "\n",
    "print(f'Finished in {round(finish-start, 2)} second(s)')\n"
   ]
  },
  {
   "cell_type": "code",
   "execution_count": 31,
   "metadata": {},
   "outputs": [
    {
     "name": "stdout",
     "output_type": "stream",
     "text": [
      "Sleeping 1 second(s)...\n",
      "Sleeping 1 second(s)...\n",
      "Done sleeping...1\n",
      "Done sleeping...1\n",
      "Finished in 6.25 second(s)\n"
     ]
    }
   ],
   "source": [
    "start = time.perf_counter()\n",
    "\n",
    "# best to use process pool with a context manager\n",
    "with concurrent.futures.ProcessPoolExecutor() as executor:\n",
    "    # submit method returns a future object\n",
    "    f1 = executor.submit(do_something, 1)\n",
    "    f2 = executor.submit(do_something, 1)\n",
    "    print(f1.result())\n",
    "    print(f2.result())\n",
    "    \n",
    "finish = time.perf_counter()\n",
    "\n",
    "print(f'Finished in {round(finish-start, 2)} second(s)')"
   ]
  },
  {
   "cell_type": "code",
   "execution_count": 33,
   "metadata": {},
   "outputs": [
    {
     "name": "stdout",
     "output_type": "stream",
     "text": [
      "Sleeping 1 second(s)...\n",
      "Sleeping 1 second(s)...\n",
      "Sleeping 1 second(s)...\n",
      "Sleeping 1 second(s)...\n",
      "Sleeping 1 second(s)...\n",
      "Sleeping 1 second(s)...\n",
      "Sleeping 1 second(s)...\n",
      "Sleeping 1 second(s)...\n",
      "Sleeping 1 second(s)...\n",
      "Sleeping 1 second(s)...\n",
      "Done sleeping...1\n",
      "Done sleeping...1\n",
      "Done sleeping...1\n",
      "Done sleeping...1\n",
      "Done sleeping...1\n",
      "Done sleeping...1\n",
      "Done sleeping...1\n",
      "Done sleeping...1\n",
      "Done sleeping...1\n",
      "Done sleeping...1\n",
      "Finished in 7.23 second(s)\n"
     ]
    }
   ],
   "source": [
    "start = time.perf_counter()\n",
    "\n",
    "# best to use process pool with a context manager\n",
    "with concurrent.futures.ProcessPoolExecutor() as executor:\n",
    "    results = [executor.submit(do_something, 1) for _ in range(10)]\n",
    "    for f in concurrent.futures.as_completed(results):\n",
    "        print(f.result())\n",
    "        \n",
    "finish = time.perf_counter()\n",
    "\n",
    "print(f'Finished in {round(finish-start, 2)} second(s)')"
   ]
  },
  {
   "cell_type": "code",
   "execution_count": 34,
   "metadata": {},
   "outputs": [
    {
     "name": "stdout",
     "output_type": "stream",
     "text": [
      "Sleeping 4 second(s)...\n",
      "Sleeping 5 second(s)...\n",
      "Sleeping 3 second(s)...\n",
      "Sleeping 2 second(s)...\n",
      "Sleeping 1 second(s)...\n",
      "Done sleeping...1\n",
      "Done sleeping...2\n",
      "Done sleeping...3\n",
      "Done sleeping...4\n",
      "Done sleeping...5\n",
      "Finished in 10.29 second(s)\n"
     ]
    }
   ],
   "source": [
    "start = time.perf_counter()\n",
    "\n",
    "# best to use process pool with a context manager\n",
    "with concurrent.futures.ProcessPoolExecutor() as executor:\n",
    "    secs = [5, 4, 3, 2, 1]\n",
    "    results = [executor.submit(do_something, sec) for sec in secs]\n",
    "    for f in concurrent.futures.as_completed(results):\n",
    "        print(f.result())\n",
    "        \n",
    "finish = time.perf_counter()\n",
    "\n",
    "print(f'Finished in {round(finish-start, 2)} second(s)')"
   ]
  },
  {
   "cell_type": "code",
   "execution_count": 35,
   "metadata": {},
   "outputs": [
    {
     "name": "stdout",
     "output_type": "stream",
     "text": [
      "Sleeping 4 second(s)...\n",
      "Sleeping 5 second(s)...\n",
      "Sleeping 3 second(s)...\n",
      "Sleeping 1 second(s)...\n",
      "Sleeping 2 second(s)...\n",
      "Done sleeping...5\n",
      "Done sleeping...4\n",
      "Done sleeping...3\n",
      "Done sleeping...2\n",
      "Done sleeping...1\n",
      "Finished in 10.31 second(s)\n"
     ]
    }
   ],
   "source": [
    "start = time.perf_counter()\n",
    "\n",
    "# best to use process pool with a context manager\n",
    "with concurrent.futures.ProcessPoolExecutor() as executor:\n",
    "    secs = [5, 4, 3, 2, 1]\n",
    "    results = executor.map(do_something, secs)\n",
    "    \n",
    "    for result in results:\n",
    "        print(result)\n",
    "        \n",
    "finish = time.perf_counter()\n",
    "\n",
    "print(f'Finished in {round(finish-start, 2)} second(s)')"
   ]
  },
  {
   "cell_type": "markdown",
   "metadata": {},
   "source": [
    "## Real World Example - Image Processing"
   ]
  },
  {
   "cell_type": "code",
   "execution_count": 50,
   "metadata": {},
   "outputs": [
    {
     "name": "stdout",
     "output_type": "stream",
     "text": [
      "photo-1516117172878-fd2c41f4a759.jpg was processed...\n",
      "photo-1532009324734-20a7a5813719.jpg was processed...\n",
      "photo-1524429656589-6633a470097c.jpg was processed...\n",
      "photo-1530224264768-7ff8c1789d79.jpg was processed...\n",
      "photo-1564135624576-c5c88640f235.jpg was processed...\n",
      "photo-1541698444083-023c97d3f4b6.jpg was processed...\n",
      "photo-1522364723953-452d3431c267.jpg was processed...\n",
      "photo-1513938709626-033611b8cc03.jpg was processed...\n",
      "photo-1507143550189-fed454f93097.jpg was processed...\n",
      "photo-1493976040374-85c8e12f0c0e.jpg was processed...\n",
      "photo-1504198453319-5ce911bafcde.jpg was processed...\n",
      "photo-1530122037265-a5f1f91d3b99.jpg was processed...\n",
      "photo-1516972810927-80185027ca84.jpg was processed...\n",
      "photo-1550439062-609e1531270e.jpg was processed...\n",
      "photo-1549692520-acc6669e2f0c.jpg was processed...\n",
      "Finished in 17.133864499999618 seconds\n"
     ]
    }
   ],
   "source": [
    "from PIL import Image, ImageFilter\n",
    "\n",
    "img_names = [\n",
    "    'photo-1516117172878-fd2c41f4a759.jpg',\n",
    "    'photo-1532009324734-20a7a5813719.jpg',\n",
    "    'photo-1524429656589-6633a470097c.jpg',\n",
    "    'photo-1530224264768-7ff8c1789d79.jpg',\n",
    "    'photo-1564135624576-c5c88640f235.jpg',\n",
    "    'photo-1541698444083-023c97d3f4b6.jpg',\n",
    "    'photo-1522364723953-452d3431c267.jpg',\n",
    "    'photo-1513938709626-033611b8cc03.jpg',\n",
    "    'photo-1507143550189-fed454f93097.jpg',\n",
    "    'photo-1493976040374-85c8e12f0c0e.jpg',\n",
    "    'photo-1504198453319-5ce911bafcde.jpg',\n",
    "    'photo-1530122037265-a5f1f91d3b99.jpg',\n",
    "    'photo-1516972810927-80185027ca84.jpg',\n",
    "    'photo-1550439062-609e1531270e.jpg',\n",
    "    'photo-1549692520-acc6669e2f0c.jpg'\n",
    "]\n",
    "\n",
    "t1 = time.perf_counter()\n",
    "\n",
    "size = (1200, 1200)\n",
    "\n",
    "for img_name in img_names:\n",
    "    img = Image.open(f'images/{img_name}')\n",
    "    img = img.filter(ImageFilter.GaussianBlur(15))\n",
    "    img.thumbnail(size)\n",
    "    img.save(f'processed/{img_name}')\n",
    "    print(f'{img_name} was processed...')\n",
    "    \n",
    "t2 = time.perf_counter()\n",
    "print(f'Finished in {t2-t1} seconds')"
   ]
  },
  {
   "cell_type": "code",
   "execution_count": 52,
   "metadata": {},
   "outputs": [
    {
     "name": "stdout",
     "output_type": "stream",
     "text": [
      "photo-1516117172878-fd2c41f4a759.jpg was processed...\n",
      "photo-1507143550189-fed454f93097.jpg was processed...\n",
      "photo-1524429656589-6633a470097c.jpg was processed...\n",
      "photo-1522364723953-452d3431c267.jpg was processed...\n",
      "photo-1530224264768-7ff8c1789d79.jpg was processed...\n",
      "photo-1532009324734-20a7a5813719.jpg was processed...\n",
      "photo-1564135624576-c5c88640f235.jpg was processed...\n",
      "photo-1513938709626-033611b8cc03.jpg was processed...\n",
      "photo-1541698444083-023c97d3f4b6.jpg was processed...\n",
      "photo-1516972810927-80185027ca84.jpg was processed...\n",
      "photo-1530122037265-a5f1f91d3b99.jpg was processed...\n",
      "photo-1550439062-609e1531270e.jpg was processed...\n",
      "photo-1549692520-acc6669e2f0c.jpg was processed...\n",
      "photo-1504198453319-5ce911bafcde.jpg was processed...\n",
      "photo-1493976040374-85c8e12f0c0e.jpg was processed...\n",
      "Finished in 17.204452799996943 seconds\n"
     ]
    }
   ],
   "source": [
    "t1 = time.perf_counter()\n",
    "\n",
    "size = (1200, 1200)\n",
    "\n",
    "def process_image(img_name):\n",
    "    img = Image.open(f'images/{img_name}')\n",
    "    img = img.filter(ImageFilter.GaussianBlur(15))\n",
    "    img.thumbnail(size)\n",
    "    img.save(f'processed/{img_name}')\n",
    "    print(f'{img_name} was processed...')\n",
    "    \n",
    "with concurrent.futures.ProcessPoolExecutor() as executor:\n",
    "    executor.map(process_image, img_names)\n",
    "    \n",
    "t2 = time.perf_counter()\n",
    "print(f'Finished in {t2-t1} seconds')"
   ]
  },
  {
   "cell_type": "markdown",
   "metadata": {},
   "source": [
    "Summary: Use **threads** for IO-bound processes, and use **processes** for CPU-bound processes."
   ]
  },
  {
   "cell_type": "markdown",
   "metadata": {},
   "source": [
    "## SUBPROCESSES"
   ]
  },
  {
   "cell_type": "code",
   "execution_count": null,
   "metadata": {},
   "outputs": [],
   "source": []
  },
  {
   "cell_type": "code",
   "execution_count": null,
   "metadata": {},
   "outputs": [],
   "source": []
  },
  {
   "cell_type": "code",
   "execution_count": null,
   "metadata": {},
   "outputs": [],
   "source": []
  },
  {
   "cell_type": "code",
   "execution_count": null,
   "metadata": {},
   "outputs": [],
   "source": []
  },
  {
   "cell_type": "code",
   "execution_count": null,
   "metadata": {},
   "outputs": [],
   "source": []
  },
  {
   "cell_type": "code",
   "execution_count": null,
   "metadata": {},
   "outputs": [],
   "source": []
  },
  {
   "cell_type": "code",
   "execution_count": null,
   "metadata": {},
   "outputs": [],
   "source": []
  },
  {
   "cell_type": "code",
   "execution_count": null,
   "metadata": {},
   "outputs": [],
   "source": []
  },
  {
   "cell_type": "code",
   "execution_count": null,
   "metadata": {},
   "outputs": [],
   "source": []
  },
  {
   "cell_type": "code",
   "execution_count": null,
   "metadata": {},
   "outputs": [],
   "source": []
  },
  {
   "cell_type": "code",
   "execution_count": null,
   "metadata": {},
   "outputs": [],
   "source": []
  },
  {
   "cell_type": "code",
   "execution_count": null,
   "metadata": {},
   "outputs": [],
   "source": []
  },
  {
   "cell_type": "code",
   "execution_count": null,
   "metadata": {},
   "outputs": [],
   "source": []
  },
  {
   "cell_type": "code",
   "execution_count": null,
   "metadata": {},
   "outputs": [],
   "source": []
  },
  {
   "cell_type": "code",
   "execution_count": null,
   "metadata": {},
   "outputs": [],
   "source": []
  },
  {
   "cell_type": "code",
   "execution_count": null,
   "metadata": {},
   "outputs": [],
   "source": []
  },
  {
   "cell_type": "code",
   "execution_count": null,
   "metadata": {},
   "outputs": [],
   "source": []
  },
  {
   "cell_type": "code",
   "execution_count": null,
   "metadata": {},
   "outputs": [],
   "source": []
  },
  {
   "cell_type": "code",
   "execution_count": null,
   "metadata": {},
   "outputs": [],
   "source": []
  },
  {
   "cell_type": "code",
   "execution_count": null,
   "metadata": {},
   "outputs": [],
   "source": []
  },
  {
   "cell_type": "code",
   "execution_count": null,
   "metadata": {},
   "outputs": [],
   "source": []
  },
  {
   "cell_type": "code",
   "execution_count": null,
   "metadata": {},
   "outputs": [],
   "source": []
  }
 ],
 "metadata": {
  "kernelspec": {
   "display_name": "Python 3",
   "language": "python",
   "name": "python3"
  },
  "language_info": {
   "codemirror_mode": {
    "name": "ipython",
    "version": 3
   },
   "file_extension": ".py",
   "mimetype": "text/x-python",
   "name": "python",
   "nbconvert_exporter": "python",
   "pygments_lexer": "ipython3",
   "version": "3.6.9"
  }
 },
 "nbformat": 4,
 "nbformat_minor": 4
}
